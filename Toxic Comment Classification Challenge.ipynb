{
 "cells": [
  {
   "cell_type": "markdown",
   "metadata": {},
   "source": [
    "# Toxic Comment Classification\n",
    "## Jigsaw Kaggle Competition \n",
    "\n",
    "For this Kaggle competition, comments from Wikipedia had to be analyzed to determine their probabalistic chance of meeting a certain toxic criteria. The criteria were the following:\n",
    "\n",
    "- toxic\n",
    "- severe_toxic\n",
    "- obscene\n",
    "- threat\n",
    "- insult\n",
    "- identity_hate\n",
    "\n",
    "The comment texts spanned from relatively mundane to extremely offensive. For EDA purposes I created wordcloud and frequency analysis but, given the offensive comments and for the sake of brevity, I will only focus on code that is relevant for the machine learning part of the challenge.\n",
    "\n",
    "First, I imported and cleaned the text as well as all relevant libraries:\n"
   ]
  },
  {
   "cell_type": "code",
   "execution_count": 1,
   "metadata": {},
   "outputs": [],
   "source": [
    "import pandas as pd\n",
    "from sklearn.feature_extraction.text import TfidfVectorizer\n",
    "from scipy.sparse import hstack\n",
    "import re\n",
    "from sklearn.linear_model import LogisticRegression\n",
    "\n",
    "train=pd.read_csv(\"C:/Users/Malte/Documents/My repositories/Toxic-Comments-Classification/train.csv\",sep=\",\")\n",
    "test=pd.read_csv(\"C:/Users/Malte/Documents/My repositories/Toxic-Comments-Classification/test.csv\",sep=\",\")"
   ]
  },
  {
   "cell_type": "markdown",
   "metadata": {},
   "source": [
    "The cleaning of the text is very rudimentary and with more time, I suspect that this could've yielded the highest increase in accuracy."
   ]
  },
  {
   "cell_type": "code",
   "execution_count": null,
   "metadata": {},
   "outputs": [],
   "source": [
    "def clean_text(text):\n",
    "    text = text.lower()\n",
    "    text = re.sub(r\"what's\", \"what is \", text)\n",
    "    text = re.sub(r\"\\'s\", \" \", text)\n",
    "    text = re.sub(r\"\\'ve\", \" have \", text)\n",
    "    text = re.sub(r\"can't\", \"cannot \", text)\n",
    "    text = re.sub(r\"n't\", \" not \", text)\n",
    "    text = re.sub(r\"i'm\", \"i am \", text)\n",
    "    text = re.sub(r\"\\'re\", \" are \", text)\n",
    "    text = re.sub(r\"\\'d\", \" would \", text)\n",
    "    text = re.sub(r\"\\'ll\", \" will \", text)\n",
    "    text = re.sub(r\"\\'scuse\", \" excuse \", text)\n",
    "    text = re.sub('\\W', ' ', text)\n",
    "    text = re.sub('\\s+', ' ', text)\n",
    "    text = text.strip(' ')\n",
    "    return text\n",
    "\n",
    "train[\"clean_comments\"]=train[\"comment_text\"].apply(lambda x: clean_text(x))\n",
    "test[\"clean_comments\"]=test[\"comment_text\"].apply(lambda x: clean_text(x))"
   ]
  },
  {
   "cell_type": "markdown",
   "metadata": {},
   "source": [
    "To prepare the text for vectorization, we will concatenate the two text files to make sure our tfidf-vectorizer incorporates all words into its vocabulary. "
   ]
  },
  {
   "cell_type": "code",
   "execution_count": null,
   "metadata": {},
   "outputs": [],
   "source": [
    "word_vectorizer=TfidfVectorizer(strip_accents=\"unicode\",token_pattern=r'\\w{1,}',\n",
    "                                analyzer=\"word\",ngram_range=(1,1),stop_words=\"english\",max_features=100000)\n",
    "all_text=pd.concat([train[\"comment_text\"],test[\"comment_text\"]])\n",
    "\n",
    "word_vectorizer.fit(all_text)\n",
    "\n",
    "train_word_features = word_vectorizer.transform(train[\"clean_comments\"])\n",
    "test_word_features = word_vectorizer.transform(test[\"clean_comments\"])"
   ]
  },
  {
   "cell_type": "markdown",
   "metadata": {},
   "source": [
    "Next, we do a character vectorizer, which increases accuracy tremendously. I suppose the unique nature of toxic comments (\"IDIOT!!!!!11!!!\") is responsible for that. Afterwords, we combine the two features for both the training and the test set. "
   ]
  },
  {
   "cell_type": "code",
   "execution_count": null,
   "metadata": {},
   "outputs": [],
   "source": [
    "char_vectorizer = TfidfVectorizer(\n",
    "    sublinear_tf=True,\n",
    "    strip_accents='unicode',\n",
    "    analyzer='char',\n",
    "    stop_words='english',\n",
    "    ngram_range=(2, 6),\n",
    "    max_features=50000)\n",
    "char_vectorizer.fit(all_text)\n",
    "train_char_features = char_vectorizer.transform(train[\"clean_comments\"])\n",
    "test_char_features = char_vectorizer.transform(test[\"clean_comments\"])\n",
    "\n",
    "train_features = hstack([train_char_features, train_word_features])\n",
    "test_features = hstack([test_char_features, test_word_features])\n"
   ]
  },
  {
   "cell_type": "markdown",
   "metadata": {},
   "source": [
    "Afterwards, we run the logistic regression algorithm over it. I experimented with some parameters, but the standard yielded my best accuracy which was 0.9802. "
   ]
  },
  {
   "cell_type": "code",
   "execution_count": null,
   "metadata": {},
   "outputs": [],
   "source": [
    "submission=pd.DataFrame()\n",
    "submission[\"id\"]=test[\"id\"]\n",
    "\n",
    "for e in ratings:\n",
    "    y=train[e]\n",
    "    clf=LogisticRegression()\n",
    "    clf.fit(train_features,y)\n",
    "    submission[e]=clf.predict_proba(test_features)[:,1]"
   ]
  },
  {
   "cell_type": "markdown",
   "metadata": {},
   "source": [
    "## Acknowledgements\n",
    "\n",
    "As always, the Kaggle community was extremely helpful. I'd like to point out especially this kernel:\n",
    "\n",
    "https://www.kaggle.com/ogrellier/lgbm-with-words-and-chars-n-gram\n",
    "\n",
    "This helped me tremendously. I experimented with lightgbm as well but could not beat logistic regression, not even close. "
   ]
  }
 ],
 "metadata": {
  "kernelspec": {
   "display_name": "Python 2",
   "language": "python",
   "name": "python2"
  },
  "language_info": {
   "codemirror_mode": {
    "name": "ipython",
    "version": 2
   },
   "file_extension": ".py",
   "mimetype": "text/x-python",
   "name": "python",
   "nbconvert_exporter": "python",
   "pygments_lexer": "ipython2",
   "version": "2.7.14"
  }
 },
 "nbformat": 4,
 "nbformat_minor": 2
}
